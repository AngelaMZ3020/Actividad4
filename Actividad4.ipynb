{
 "cells": [
  {
   "cell_type": "code",
   "execution_count": null,
   "metadata": {},
   "outputs": [],
   "source": [
    "# Cargar a la memoria de trabajo las bibliotecas: Pandas (manejo de datos, \n",
    "# Numpy (numerical python) y la biblioteca de gráficas Matplotlib\n",
    "# Se asignan nombres cortos.\n",
    "import pandas as pd\n",
    "import numpy as np\n",
    "import matplotlib\n",
    "import matplotlib.pyplot as plt\n",
    "\n",
    "# Usar \"Shift+Enter\" para procesar la información de la celda\n",
    "#"
   ]
  },
  {
   "cell_type": "code",
   "execution_count": null,
   "metadata": {},
   "outputs": [],
   "source": [
    "sentinels = {'PRECIP': ['Nulo'],'EVAP':['Nulo'],'TMAX':['Nulo'],'TMIN':['Nulo']}"
   ]
  },
  {
   "cell_type": "code",
   "execution_count": null,
   "metadata": {},
   "outputs": [],
   "source": [
    "# Descarga los datos de la Información Climatológica por Estado.\n",
    "# http://smn.cna.gob.mx/es/informacion-climatologica-por-estado?estado=son\n",
    "# Lee un archivo de texto con la función Pandas \"read_csv\", con elementos separados por mas de \n",
    "# un espacio, brincándose 20 renglones del inicio (encabezados)\n",
    "df0 = pd.read_csv('Bacadehuachi.txt', skiprows=20, sep='\\s+', header=None,names = [\"DD/MM/AAAA\", \"PRECIP\", \"EVAP\", \"TMAX\", \"TMIN\"],na_values=sentinels)\n",
    "#Precipitación y Evaporación en milímetros.\n",
    "#Temperatura máxima y mínima en °C.\n",
    "# \"Shift + Enter\""
   ]
  },
  {
   "cell_type": "code",
   "execution_count": null,
   "metadata": {},
   "outputs": [],
   "source": [
    "#Se muestran los primeros 5 renglones del archivo.\n",
    "df0.head()"
   ]
  },
  {
   "cell_type": "code",
   "execution_count": null,
   "metadata": {},
   "outputs": [],
   "source": [
    "#Se muestran los últimos 5 valores de la tabla.\n",
    "df0.tail()"
   ]
  },
  {
   "cell_type": "code",
   "execution_count": null,
   "metadata": {},
   "outputs": [],
   "source": [
    "#Tipos de variables.\n",
    "df0.dtypes"
   ]
  },
  {
   "cell_type": "code",
   "execution_count": null,
   "metadata": {},
   "outputs": [],
   "source": [
    "# Convertir la columna Fecha a una variable tiempo.\n",
    "# Se crea una nueva columna \"Fecha\" al final con formato de tiempo.\n",
    "# Eliminamos las dos primeras columnas que ya no necesitaremos\n",
    "df0['FECHA'] = pd.to_datetime(df0.apply(lambda x: x['DD/MM/AAAA'] , 1), dayfirst=True)\n",
    "df0 = df0.drop(['DD/MM/AAAA'], 1)"
   ]
  },
  {
   "cell_type": "code",
   "execution_count": null,
   "metadata": {},
   "outputs": [],
   "source": [
    "#Vuelvo a mostrar los primeros renglones de la tabla.\n",
    "df0.head()"
   ]
  },
  {
   "cell_type": "code",
   "execution_count": null,
   "metadata": {},
   "outputs": [],
   "source": [
    "#Verificación de la variable fecha como variable de tiempo.\n",
    "df0.dtypes"
   ]
  },
  {
   "cell_type": "code",
   "execution_count": null,
   "metadata": {},
   "outputs": [],
   "source": [
    "#Calcular el promedio de cada columna.\n",
    "df0.mean()"
   ]
  },
  {
   "cell_type": "code",
   "execution_count": null,
   "metadata": {},
   "outputs": [],
   "source": [
    "#Desviación estándar de cada columna.\n",
    "df0.std()"
   ]
  },
  {
   "cell_type": "code",
   "execution_count": null,
   "metadata": {},
   "outputs": [],
   "source": [
    "#Mediana de los datos de cada columna.\n",
    "df0.median()"
   ]
  },
  {
   "cell_type": "code",
   "execution_count": null,
   "metadata": {},
   "outputs": [],
   "source": [
    "#Valor máximo en cada columna.\n",
    "df0.max()"
   ]
  },
  {
   "cell_type": "code",
   "execution_count": null,
   "metadata": {},
   "outputs": [],
   "source": [
    "#Valor mínimo de cada columna.\n",
    "df0.min()"
   ]
  },
  {
   "cell_type": "code",
   "execution_count": null,
   "metadata": {},
   "outputs": [],
   "source": [
    "#Valores de la tabla\n",
    "df0.describe()"
   ]
  },
  {
   "cell_type": "code",
   "execution_count": null,
   "metadata": {},
   "outputs": [],
   "source": [
    "#Para localizar un dato\n",
    "df0.iloc[[74]]"
   ]
  },
  {
   "cell_type": "code",
   "execution_count": null,
   "metadata": {},
   "outputs": [],
   "source": [
    "#Para localizar el índice con la temperatura máxima\n",
    "tmax=df0.TMAX.idxmax()\n",
    "tmax"
   ]
  },
  {
   "cell_type": "code",
   "execution_count": null,
   "metadata": {},
   "outputs": [],
   "source": [
    "#Mostrar entonces la fila con el índice con la temperatura máxima\n",
    "df0.iloc[[tmax]]"
   ]
  },
  {
   "cell_type": "code",
   "execution_count": null,
   "metadata": {},
   "outputs": [],
   "source": [
    "#Sumatoria de los datos de cada columna\n",
    "df0.sum()"
   ]
  },
  {
   "cell_type": "code",
   "execution_count": null,
   "metadata": {},
   "outputs": [],
   "source": [
    "#Creamos una nueva columna columna para el mes.\n",
    "#La tabla solo tiene los meses de noviembre y diciembre del año 1963, y enero de 1964.\n",
    "df0['MES'] = df0['FECHA'].dt.month\n",
    "df0['AÑO'] = df0['FECHA'].dt.year\n",
    "df0.head()"
   ]
  },
  {
   "cell_type": "code",
   "execution_count": null,
   "metadata": {},
   "outputs": [],
   "source": [
    "#Asignamos el mes correspondiente a cada número.\n",
    "df0_ENE = df0[df0.MES==1]\n",
    "df0_FEB = df0[df0.MES==2]\n",
    "df0_MAR = df0[df0.MES==3]\n",
    "df0_ABR = df0[df0.MES==4]\n",
    "df0_MAY = df0[df0.MES==5]\n",
    "df0_JUN = df0[df0.MES==6]\n",
    "df0_JUL = df0[df0.MES==7]\n",
    "df0_AGO = df0[df0.MES==8]\n",
    "df0_SEP = df0[df0.MES==9]\n",
    "df0_OCT = df0[df0.MES==10]\n",
    "df0_NOV = df0[df0.MES==11]\n",
    "df0_DIC = df0[df0.MES==12]"
   ]
  },
  {
   "cell_type": "code",
   "execution_count": null,
   "metadata": {},
   "outputs": [],
   "source": [
    "#Hacemos la sumatoria de las precipitaciones.\n",
    "#SP es el promedio de precipitación de cada mes.\n",
    "SP_ENE = df0_ENE.PRECIP.sum()\n",
    "print(\"Enero = \",SP_ENE)\n",
    "SP_FEB = df0_FEB.PRECIP.sum()\n",
    "print(\"Febrero = \",SP_FEB)\n",
    "SP_MAR = df0_MAR.PRECIP.sum()\n",
    "print(\"Marzo = \",SP_MAR)\n",
    "SP_ABR = df0_ABR.PRECIP.sum()\n",
    "print(\"Abril = \",SP_ABR)\n",
    "SP_MAY = df0_MAY.PRECIP.sum()\n",
    "print(\"Mayo = \",SP_MAY)\n",
    "SP_JUN = df0_JUN.PRECIP.sum()\n",
    "print(\"Junio = \",SP_JUN)\n",
    "SP_JUL = df0_JUL.PRECIP.sum()\n",
    "print(\"Julio = \",SP_JUL)\n",
    "SP_AGO = df0_AGO.PRECIP.sum()\n",
    "print(\"Agosto = \",SP_AGO)\n",
    "SP_SEP = df0_SEP.PRECIP.sum()\n",
    "print(\"Septiembre = \",SP_SEP)\n",
    "SP_OCT = df0_OCT.PRECIP.sum()\n",
    "print(\"Octubre = \",SP_OCT)\n",
    "SP_NOV = df0_NOV.PRECIP.sum()\n",
    "print(\"Noviembre = \",SP_NOV)\n",
    "SP_DIC = df0_DIC.PRECIP.sum()\n",
    "print(\"Diciembre = \",SP_DIC)"
   ]
  },
  {
   "cell_type": "code",
   "execution_count": null,
   "metadata": {},
   "outputs": [],
   "source": [
    "#Graficamos el promedio de precipitación de cada mes:\n",
    "meses = ('ENE','FEB','MAR','ABR','MAY','JUN','JUL','AGO','SEP','OCT','NOV','DIC')\n",
    "#Para que la tabla abarque los valores de los promedio de las precipitaciones.\n",
    "y_pos = np.arange(len(meses))\n",
    "PreTot = [SP_ENE,SP_FEB,SP_MAR,SP_ABR,SP_MAY,SP_JUN,SP_JUL,SP_AGO,SP_SEP,SP_OCT,SP_NOV,SP_DIC]\n",
    "\n",
    "#Para hacer la gráfica:\n",
    "plt.bar(y_pos, PreTot,align='center', alpha=0.3)\n",
    "\n",
    "#Poner los meses en el eje de las \"x\".\n",
    "plt.xticks(y_pos, meses)\n",
    "plt.ylabel('Precipitación por mes (mm)')\n",
    "plt.title('Total de precipitación por meses (1963-2011)')\n",
    "plt.savefig('RainMeses',plt=2000)\n",
    "plt.show()"
   ]
  },
  {
   "cell_type": "code",
   "execution_count": null,
   "metadata": {},
   "outputs": [],
   "source": [
    "#Por lo tanto, podemos observar que el mes con más precipitaciones \n",
    "#es el mes de Julio."
   ]
  },
  {
   "cell_type": "code",
   "execution_count": null,
   "metadata": {},
   "outputs": [],
   "source": [
    "#Para calcular los meses más fríos, sacamos un promedio de las temperaturas mínimas de cada mes.\n",
    "TMIN_ENE = df0_ENE.TMIN.mean()\n",
    "print(\"Tmin Enero = \",TMIN_ENE)\n",
    "TMIN_FEB = df0_FEB.TMIN.mean()\n",
    "print(\"Tmin Febrero = \",TMIN_FEB)\n",
    "TMIN_MAR = df0_MAR.TMIN.mean()\n",
    "print(\"Tmin Marzo = \",TMIN_MAR)\n",
    "TMIN_ABR = df0_ABR.TMIN.mean()\n",
    "print(\"Tmin Abril = \",TMIN_ABR)\n",
    "TMIN_MAY = df0_MAY.TMIN.mean()\n",
    "print(\"Tmin Mayo = \",TMIN_MAY)\n",
    "TMIN_JUN = df0_JUN.TMIN.mean()\n",
    "print(\"Tmin Junio = \",TMIN_JUN)\n",
    "TMIN_JUL = df0_JUL.TMIN.mean()\n",
    "print(\"Tmin Julio = \",TMIN_JUL)\n",
    "TMIN_AGO = df0_AGO.TMIN.mean()\n",
    "print(\"Tmin Agosto = \",TMIN_AGO)\n",
    "TMIN_SEP = df0_SEP.TMIN.mean()\n",
    "print(\"Tmin Septiembre = \",TMIN_SEP)\n",
    "TMIN_OCT = df0_OCT.TMIN.mean()\n",
    "print(\"Tmin Octubre = \",TMIN_OCT)\n",
    "TMIN_NOV = df0_NOV.TMIN.mean()\n",
    "print(\"Tmin Noviembre = \",TMIN_NOV)\n",
    "TMIN_DIC = df0_DIC.TMIN.mean()\n",
    "print(\"Tmin Diciembre = \",TMIN_DIC)"
   ]
  },
  {
   "cell_type": "code",
   "execution_count": null,
   "metadata": {},
   "outputs": [],
   "source": [
    "#Graficamos las temperaturas mínimas promedio con respecto a los meses.\n",
    "meses = ('ENE','FEB','MAR','ABR','MAY','JUN','JUL','AGO','SEP','OCT','NOV','DIC')\n",
    "#Para que la tabla abarque los valores de los promedio de las precipitaciones.\n",
    "y_pos = np.arange(len(meses))\n",
    "TminT = [TMIN_ENE,TMIN_FEB,TMIN_MAR,TMIN_ABR,TMIN_MAY,TMIN_JUN,TMIN_JUL,TMIN_AGO,TMIN_SEP,TMIN_OCT,TMIN_NOV,TMIN_DIC]\n",
    "\n",
    "#Para hacer la gráfica:\n",
    "plt.bar(y_pos, TminT,align='center', alpha=0.6)\n",
    "\n",
    "#Poner los meses en el eje de las \"x\".\n",
    "plt.xticks(y_pos, meses)\n",
    "plt.ylabel('Promedio de temperaturas mínimas por meses (°C)')\n",
    "plt.title('Promedio de temperaturas mínimas por meses (1963-2011)')\n",
    "plt.savefig('TempMinMeses',plt=2000)\n",
    "plt.show()\n"
   ]
  },
  {
   "cell_type": "code",
   "execution_count": null,
   "metadata": {},
   "outputs": [],
   "source": [
    "#Podemos observar que el mes con las temperaturas más bajas en promedio es Enero\n",
    "#con una temperatura media de alrededor de 2.5°C."
   ]
  },
  {
   "cell_type": "code",
   "execution_count": null,
   "metadata": {},
   "outputs": [],
   "source": [
    "#Para calcular los meses más cálidos, sacamos un promedio de las temperaturas máximas de cada mes.\n",
    "TMAX_ENE = df0_ENE.TMAX.mean()\n",
    "print(\"Tmáx Enero = \",TMAX_ENE)\n",
    "TMAX_FEB = df0_FEB.TMAX.mean()\n",
    "print(\"Tmáx Febrero = \",TMAX_FEB)\n",
    "TMAX_MAR = df0_MAR.TMAX.mean()\n",
    "print(\"Tmáx Marzo = \",TMAX_MAR)\n",
    "TMAX_ABR = df0_ABR.TMAX.mean()\n",
    "print(\"Tmáx Abril = \",TMAX_ABR)\n",
    "TMAX_MAY = df0_MAY.TMAX.mean()\n",
    "print(\"Tmáx Mayo = \",TMAX_MAY)\n",
    "TMAX_JUN = df0_JUN.TMAX.mean()\n",
    "print(\"Tmáx Junio = \",TMAX_JUN)\n",
    "TMAX_JUL = df0_JUL.TMAX.mean()\n",
    "print(\"Tmáx Julio = \",TMAX_JUL)\n",
    "TMAX_AGO = df0_AGO.TMAX.mean()\n",
    "print(\"Tmáx Agosto = \",TMAX_AGO)\n",
    "TMAX_SEP = df0_SEP.TMAX.mean()\n",
    "print(\"Tmáx Septiembre = \",TMAX_SEP)\n",
    "TMAX_OCT = df0_OCT.TMAX.mean()\n",
    "print(\"Tmáx Octubre = \",TMAX_OCT)\n",
    "TMAX_NOV = df0_NOV.TMAX.mean()\n",
    "print(\"Tmáx Noviembre = \",TMAX_NOV)\n",
    "TMAX_DIC = df0_DIC.TMAX.mean()\n",
    "print(\"Tmáx Diciembre = \",TMAX_DIC)"
   ]
  },
  {
   "cell_type": "code",
   "execution_count": null,
   "metadata": {},
   "outputs": [],
   "source": [
    "#Graficamos las temperaturas mínimas promedio con respecto a los meses.\n",
    "meses = ('ENE','FEB','MAR','ABR','MAY','JUN','JUL','AGO','SEP','OCT','NOV','DIC')\n",
    "#Para que la tabla abarque los valores de los promedio de las precipitaciones.\n",
    "y_pos = np.arange(len(meses))\n",
    "TmaxT = [TMAX_ENE,TMAX_FEB,TMAX_MAR,TMAX_ABR,TMAX_MAY,TMAX_JUN,TMAX_JUL,TMAX_AGO,TMAX_SEP,TMAX_OCT,TMAX_NOV,TMAX_DIC]\n",
    "\n",
    "#Para hacer la gráfica:\n",
    "plt.bar(y_pos, TmaxT,align='center', alpha=0.9)\n",
    "\n",
    "#Poner los meses en el eje de las \"x\".\n",
    "plt.xticks(y_pos, meses)\n",
    "plt.ylabel('Promedio de temperaturas máximas por meses (°C)')\n",
    "plt.title('Promedio de temperaturas máximas por meses (1963-2011)')\n",
    "plt.savefig('TampMaxMeses',plt=2000)\n",
    "plt.show()"
   ]
  },
  {
   "cell_type": "code",
   "execution_count": null,
   "metadata": {},
   "outputs": [],
   "source": [
    "#Se puede observar entonves que Junio es el mes más cálido con una temperatura\n",
    "#promedio máxima de alrededor de 40°C. "
   ]
  },
  {
   "cell_type": "code",
   "execution_count": null,
   "metadata": {},
   "outputs": [],
   "source": [
    "#Para calcular cuáles han sido los años más húmedos, nos basamos en la suma de precipitaciones por año\n",
    "#Creamos un arreglo con los años y con la precipitación total por año\n",
    "#inicio es el año donde empezamos a contar, en un rango de 48 años hasta el 2011.\n",
    "#YEAR es el arreglo con los 48 años.\n",
    "#PYEAR es el arreglo con la suma de precipitaciones por año de los 48 años.\n",
    "inicio = 1963\n",
    "YEAR = [inicio + i for i in range(0, 49)]\n",
    "PYEAR = [ df0[df0.AÑO==(inicio + i)].PRECIP.sum() for i in range(0, 49)]\n"
   ]
  },
  {
   "cell_type": "code",
   "execution_count": null,
   "metadata": {},
   "outputs": [],
   "source": [
    "#Creamos un nuevo Data Frame para los años y las precipitaciones totales.\n",
    "d0 = {'AÑO': YEAR, 'PRECIPITACIÓN TOTAL': PYEAR}\n",
    "df1 = pd.DataFrame(data=d0)\n",
    "df1.head()"
   ]
  },
  {
   "cell_type": "code",
   "execution_count": null,
   "metadata": {},
   "outputs": [],
   "source": [
    "df1.tail()"
   ]
  },
  {
   "cell_type": "code",
   "execution_count": null,
   "metadata": {},
   "outputs": [],
   "source": [
    "#Graficamos las precipitaciones totales por año.\n",
    "date = YEAR\n",
    "T = np.arange(len(date))\n",
    "Rain = PYEAR\n",
    "\n",
    "plt.bar(T, Rain, width=0.4, align='center', alpha=0.4)\n",
    "plt.xticks(T, date, size='xx-small', rotation=90)\n",
    "plt.ylabel('Precipitación (mm)')\n",
    "plt.title('Precipitación total por años (1963-2011)')\n",
    "plt.show()"
   ]
  },
  {
   "cell_type": "code",
   "execution_count": null,
   "metadata": {},
   "outputs": [],
   "source": [
    "#De la tabla se puede concluir que el año más húmedo es el de 2007.\n",
    "#Y de igual manera podemos concluir que el año más seco fue el menos\n",
    "#lluvioso, en este caso, en 1999."
   ]
  },
  {
   "cell_type": "code",
   "execution_count": null,
   "metadata": {},
   "outputs": [],
   "source": [
    "#Seleccionamos las temperaturas máximas y mínimas de los meses de invierno (diciembre, enero y febrero)\n",
    "TEMPINV = pd.DataFrame(df0.loc[df0['MES'].isin([12,1,2])])\n",
    "TEMPINV.head()\n"
   ]
  },
  {
   "cell_type": "code",
   "execution_count": null,
   "metadata": {},
   "outputs": [],
   "source": [
    "#Creamos arreglos para la temperatura promedio máxima y mínima de cada año\n",
    "#Winter Max\n",
    "WMAX = [TEMPINV[TEMPINV.AÑO==(inicio + i)].TMAX.mean() for i in range(0,49)]\n",
    "WMIN = [TEMPINV[TEMPINV.AÑO==(inicio + i)].TMIN.mean() for i in range(0,49)]\n"
   ]
  },
  {
   "cell_type": "code",
   "execution_count": null,
   "metadata": {},
   "outputs": [],
   "source": [
    "#Creamos otro DataFrame para las temperaturas promedio por año\n",
    "d3 = {'AÑO': YEAR, 'TMAXI': WMAX, 'TMINI': WMIN }\n",
    "df3 = pd.DataFrame(data=d3)\n",
    "df3\n"
   ]
  },
  {
   "cell_type": "code",
   "execution_count": null,
   "metadata": {},
   "outputs": [],
   "source": [
    "#Creamos gráficas para la temperatura promedio máxima y mínima en invierno por cada año.\n",
    "N = np.arange(len(date))\n",
    "\n",
    "plt.bar(N,WMAX,width=0.4,align='center',alpha=0.7,color='C')\n",
    "plt.xticks(N,YEAR,size='small',color='c',rotation=90)\n",
    "\n",
    "plt.bar(N,WMIN,width=0.4,align='center',alpha=0.6,color='y')\n",
    "plt.xticks(N,YEAR,size='small',color='k',rotation=90)\n",
    "\n",
    "plt.ylabel('Temperatura (°C)')\n",
    "plt.title('Temperatura promedio máxima y mínima en invierno (1963-2011)')\n",
    "plt.gca().legend(('TMAX','TMIN'),frameon=False,loc='upper left')\n",
    "plt.savefig('Temperaturasprom_invierno',plt=2000)\n",
    "plt.show()"
   ]
  },
  {
   "cell_type": "code",
   "execution_count": null,
   "metadata": {},
   "outputs": [],
   "source": [
    "#Temperatura mínima de las temperaturas máximas.\n",
    "min=df3.TMINI.idxmin()\n",
    "df3.iloc[[min]]"
   ]
  },
  {
   "cell_type": "code",
   "execution_count": null,
   "metadata": {},
   "outputs": [],
   "source": [
    "#5 temperaturas mínimas\n",
    "df3.nsmallest(5,'TMINI',keep='first')"
   ]
  },
  {
   "cell_type": "code",
   "execution_count": null,
   "metadata": {},
   "outputs": [],
   "source": [
    "df3.nsmallest(5,'TMAXI',keep='first')"
   ]
  },
  {
   "cell_type": "code",
   "execution_count": null,
   "metadata": {},
   "outputs": [],
   "source": [
    "df3.iloc[[35]]"
   ]
  },
  {
   "cell_type": "code",
   "execution_count": null,
   "metadata": {},
   "outputs": [],
   "source": [
    "#Seleccionamos las temperaturas máximas y mínimas en los meses de verano (Junio, Julio, Agosto, Septiembre)\n",
    "TV = pd.DataFrame(df0.loc[df0['MES'].isin([6,7,8,9])])\n",
    "TV.head()"
   ]
  },
  {
   "cell_type": "code",
   "execution_count": null,
   "metadata": {},
   "outputs": [],
   "source": [
    "#Creamos arreglos de las temperaturas promedio máximas y mínimas de verano de cada año.\n",
    "SMAX = [TV[TV.AÑO==(inicio + i)].TMAX.mean() for i in range(0,49)]\n",
    "SMIN = [TV[TV.AÑO==(inicio + i)].TMIN.mean() for i in range(0,49)]\n"
   ]
  },
  {
   "cell_type": "code",
   "execution_count": null,
   "metadata": {},
   "outputs": [],
   "source": [
    "#Creamos un Dataframe para las temperaturas promedio en verano por cada año.\n",
    "d4 = {'AÑO': YEAR, 'TVMAX': SMAX, 'TVMIN': SMIN }\n",
    "df4 = pd.DataFrame(data=d4)\n",
    "df4\n"
   ]
  },
  {
   "cell_type": "code",
   "execution_count": null,
   "metadata": {},
   "outputs": [],
   "source": [
    "#Creamos gráficas para la temperatura promedio máxima y mínima en invierno por cada año.\n",
    "N = np.arange(len(date))\n",
    "\n",
    "plt.bar(N,SMAX,width=0.4,align='center',alpha=0.7,color='R')\n",
    "plt.xticks(N,YEAR,size='small',color='c',rotation=90)\n",
    "\n",
    "plt.bar(N,SMIN,width=0.4,align='center',alpha=0.6,color='Y')\n",
    "plt.xticks(N,YEAR,size='small',color='k',rotation=90)\n",
    "\n",
    "plt.ylabel('Temperatura (°C)')\n",
    "plt.title('Temperatura promedio máxima y mínima en verano (1963-2011)')\n",
    "plt.gca().legend(('TMAX','TMIN'),frameon=False,loc='upper left')\n",
    "plt.savefig('Temperaturasprom_verano',plt=2000)\n",
    "plt.show()\n"
   ]
  },
  {
   "cell_type": "code",
   "execution_count": null,
   "metadata": {},
   "outputs": [],
   "source": [
    "#Temperaturas mínimas de verano\n",
    "df4.nlargest(5,'TVMAX', keep='first')"
   ]
  },
  {
   "cell_type": "code",
   "execution_count": null,
   "metadata": {},
   "outputs": [],
   "source": [
    "#Temperatura mensual promedio\n",
    "inicio = 1963\n",
    "YEAR = [inicio + i for i in range(0,49)]\n",
    "TMAXAÑO = [df0[df0.AÑO==(inicio + i)].TMAX.mean() for i in range(0,49)]\n",
    "TMINAÑO = [df0[df0.AÑO==(inicio + i)].TMIN.mean() for i in range(0,49)]\n"
   ]
  },
  {
   "cell_type": "code",
   "execution_count": null,
   "metadata": {},
   "outputs": [],
   "source": [
    "#Creamos el DataFrame para la temperatura promedio máxima y mínima anual.\n",
    "d5 = {'AÑO': YEAR, 'TMAXA': TMAXAÑO, 'TMINA': TMINAÑO }\n",
    "df5 = pd.DataFrame(data=d5)\n",
    "df5\n"
   ]
  },
  {
   "cell_type": "code",
   "execution_count": null,
   "metadata": {},
   "outputs": [],
   "source": [
    "#Creando gráfica para temperatura promedio mínima y máxima por año\n",
    "N = np.arange(len(YEAR)) \n",
    "\n",
    "plt.bar(N,TMAXAÑO, width=0.5, align='center', alpha=0.4,color='b')\n",
    "plt.xticks(N, YEAR, size = 'small', color = 'r', rotation = 90)\n",
    "\n",
    "plt.bar(N, TMINAÑO, width=0.5, align='center', alpha=0.7,color='m')\n",
    "plt.xticks(N, YEAR, size = 'small', color = 'k', rotation = 90)\n",
    "\n",
    "plt.ylabel('Temperatura (°C)')\n",
    "plt.title('Temperatura promedio máxima y mínima anual (1963-2011)')\n",
    "plt.gca().legend(('TMAX','TMIN'),frameon=False,loc='upper left')\n",
    "plt.savefig('TempProm_anual',plt=2000)\n",
    "plt.show()"
   ]
  },
  {
   "cell_type": "code",
   "execution_count": null,
   "metadata": {},
   "outputs": [],
   "source": [
    "#Se puede deducir que en los últimos 20 años de datos (desde 1991) la temperatura promedio se ha\n",
    "#mantenido un poco estable."
   ]
  },
  {
   "cell_type": "code",
   "execution_count": null,
   "metadata": {},
   "outputs": [],
   "source": [
    "#Para ver qué ha suciedido con las precipitaciones en los últimos 20 años\n",
    "#observaremos de nuevo la tabla que se realizó previamente:\n",
    "\n",
    "\n",
    "\n",
    "#Graficamos las precipitaciones totales por año.\n",
    "date = YEAR\n",
    "T = np.arange(len(date))\n",
    "Rain = PYEAR\n",
    "\n",
    "plt.bar(T, Rain, width=0.4, align='center', alpha=0.4)\n",
    "plt.xticks(T, date, size='xx-small', rotation=90)\n",
    "plt.ylabel('Precipitación (mm)')\n",
    "plt.title('Precipitación total por años (1963-2011)')\n",
    "plt.savefig('Lluvia_anual',plt=2000)\n",
    "plt.show()"
   ]
  },
  {
   "cell_type": "code",
   "execution_count": null,
   "metadata": {},
   "outputs": [],
   "source": [
    "#En el municipio de Bacadehuachi, en los últimos 20 años de datos, las precipitaciones han ido\n",
    "#fluctuando de manera significativa, teniendo años donde casi no llueve, y otros donde llueve\n",
    "#de mas."
   ]
  },
  {
   "cell_type": "markdown",
   "metadata": {},
   "source": [
    "ACTIVIDAD 4"
   ]
  },
  {
   "cell_type": "code",
   "execution_count": null,
   "metadata": {},
   "outputs": [],
   "source": [
    "#Gráfica de barras de precipitación mensual acumulada promedio\n",
    "#Hacemos el promedio de las precipitaciones.\n",
    "#PP es el promedio de precipitación de cada mes.\n",
    "PP_ENE = df0_ENE.PRECIP.mean()\n",
    "print(\"Enero = \",PP_ENE)\n",
    "PP_FEB = df0_FEB.PRECIP.mean()\n",
    "print(\"Febrero = \",PP_FEB)\n",
    "PP_MAR = df0_MAR.PRECIP.mean()\n",
    "print(\"Marzo = \",PP_MAR)\n",
    "PP_ABR = df0_ABR.PRECIP.mean()\n",
    "print(\"Abril = \",PP_ABR)\n",
    "PP_MAY = df0_MAY.PRECIP.mean()\n",
    "print(\"Mayo = \",PP_MAY)\n",
    "PP_JUN = df0_JUN.PRECIP.mean()\n",
    "print(\"Junio = \",PP_JUN)\n",
    "PP_JUL = df0_JUL.PRECIP.mean()\n",
    "print(\"Julio = \",PP_JUL)\n",
    "PP_AGO = df0_AGO.PRECIP.mean()\n",
    "print(\"Agosto = \",PP_AGO)\n",
    "PP_SEP = df0_SEP.PRECIP.mean()\n",
    "print(\"Septiembre = \",PP_SEP)\n",
    "PP_OCT = df0_OCT.PRECIP.mean()\n",
    "print(\"Octubre = \",PP_OCT)\n",
    "PP_NOV = df0_NOV.PRECIP.mean()\n",
    "print(\"Noviembre = \",PP_NOV)\n",
    "PP_DIC = df0_DIC.PRECIP.mean()\n",
    "print(\"Diciembre = \",PP_DIC)"
   ]
  },
  {
   "cell_type": "code",
   "execution_count": null,
   "metadata": {},
   "outputs": [],
   "source": [
    "#Graficamos el promedio de precipitación de cada mes:\n",
    "meses = ('ENE','FEB','MAR','ABR','MAY','JUN','JUL','AGO','SEP','OCT','NOV','DIC')\n",
    "#Para que la tabla abarque los valores de los promedio de las precipitaciones.\n",
    "y_pos = np.arange(len(meses))\n",
    "PreTotProm = [PP_ENE,PP_FEB,PP_MAR,PP_ABR,PP_MAY,PP_JUN,PP_JUL,PP_AGO,PP_SEP,PP_OCT,PP_NOV,PP_DIC]\n",
    "\n",
    "#Para hacer la gráfica:\n",
    "plt.bar(y_pos, PreTotProm,align='center', alpha=0.3)\n",
    "\n",
    "#Poner los meses en el eje de las \"x\".\n",
    "plt.xticks(y_pos, meses)\n",
    "plt.ylabel('Promedio de precipitación por mes (mm)')\n",
    "plt.title('Promedio de precipitación por meses (1963-2011)')\n",
    "plt.savefig('PromRainMeses',plt=2000)\n",
    "plt.show()"
   ]
  },
  {
   "cell_type": "code",
   "execution_count": null,
   "metadata": {},
   "outputs": [],
   "source": [
    "#Gráfica de barras de precipitación acumulada para cada año de la misma colección.  \n",
    "#Dicha tabla se ovtuvo en la práctica pasada:\n",
    "#Graficamos las precipitaciones totales por año.\n",
    "date = YEAR\n",
    "T = np.arange(len(date))\n",
    "Rain = PYEAR\n",
    "\n",
    "plt.bar(T, Rain, width=0.4, align='center', alpha=0.4)\n",
    "plt.xticks(T, date, size='xx-small', rotation=90)\n",
    "plt.ylabel('Precipitación (mm)')\n",
    "plt.title('Precipitación total por años (1963-2011)')\n",
    "plt.savefig('Lluvia_anual',plt=2000)\n",
    "plt.show()"
   ]
  },
  {
   "cell_type": "code",
   "execution_count": null,
   "metadata": {},
   "outputs": [],
   "source": [
    "df0.head()"
   ]
  },
  {
   "cell_type": "code",
   "execution_count": null,
   "metadata": {},
   "outputs": [],
   "source": [
    "#Gráfica de la evolución de la temperatura máxima y mínima en la misma figura, como función del tiempo de la colección de datos\n",
    "\n",
    "#plt.plot_date(x=df0.FECHA, y=df0.TMAX, fmt='r')\n",
    "#plt.plot_date(x=df0.FECHA, y=df0.TMIN, fmt='c')\n",
    "\n",
    "#plt.xlabel('Tiempo (años)')\n",
    "#plt.ylabel('Temperatura °C')\n",
    "#plt.title('Gráfica de evolución de la Temperatura máxima y mínima')\n",
    "\n",
    "#plt.savefig('Tmaxmin evolución',plt=2000)\n",
    "#df0.plot.line()\n",
    "#plt.show()\n",
    "\n",
    "\n",
    "#y_pos = np.arange(len(YEAR))\n",
    "#fig, ax = plt.subplots()\n",
    "#ax.plot(y_pos, (df0.TMAX,df0.TMIN))\n",
    "\n",
    "#ax.set(xlabel='Tiempo (años)', ylabel='Temperatura °C',\n",
    "      # title='Gráfica de evolución de la Temperatura máxima y mínima')\n",
    "#ax.grid()\n",
    "\n",
    "#fig.savefig(\"test.png\")\n",
    "#plt.show()"
   ]
  },
  {
   "cell_type": "code",
   "execution_count": null,
   "metadata": {},
   "outputs": [],
   "source": [
    "#Gráfica de la evolución de la temperatura máxima y mínima en la misma figura, como función del tiempo de la colección de datos\n",
    "\n",
    "inicio = 1963\n",
    "YEAR = [inicio + i for i in range(0,49)]\n",
    "TMAXAÑO = [df0[df0.AÑO==(inicio + i)].TMAX.mean() for i in range(0,49)]\n",
    "TMINAÑO = [df0[df0.AÑO==(inicio + i)].TMIN.mean() for i in range(0,49)]\n",
    "\n",
    "\n",
    "fig, ax = plt.subplots()\n",
    "x1 = TMAXAÑO\n",
    "x2 = TMINAÑO\n",
    "y = YEAR\n",
    "ax.plot(y, x1)\n",
    "\n",
    "#Agregamos los datos de la temperatura mínima\n",
    "\n",
    "ax.plot(y,x2)\n",
    "\n",
    "ax.set(xlabel='Tiempo (años)', ylabel='Temperatura °C',\n",
    "       title='Gráfica de evolución de la Temperatura máxima y mínima')\n",
    "ax.grid()\n",
    "\n",
    "fig.savefig('Tmaxmin evolución',plt=2000)\n",
    "plt.show()"
   ]
  },
  {
   "cell_type": "code",
   "execution_count": null,
   "metadata": {},
   "outputs": [],
   "source": [
    "plt.plot_date(x=df0.FECHA, y=df0.TMAX, fmt=\"m\")\n",
    "plt.plot_date(x=df0.FECHA, y=df0.TMIN, fmt=\"b-\")\n",
    "plt.legend(loc='best')\n",
    "plt.title(\"Gráfica de evolución de la Temperatura máxima y mínima\")\n",
    "plt.ylabel(\"Temperatura ºC\")\n",
    "plt.grid(True)\n",
    "fig.savefig('Tmaxmin2 evolución',plt=2000)\n",
    "plt.show()"
   ]
  },
  {
   "cell_type": "code",
   "execution_count": null,
   "metadata": {},
   "outputs": [],
   "source": [
    "#Declaramos el promedio de temperaturas mensuales, sumando\n"
   ]
  },
  {
   "cell_type": "code",
   "execution_count": null,
   "metadata": {},
   "outputs": [],
   "source": [
    "#d6 = {'MESES': MES, 'TMAXA': TMAXAÑO, 'TMINA': TMINAÑO }\n",
    "#df6.Dataframe(data=d6)\n",
    "#df6"
   ]
  },
  {
   "cell_type": "code",
   "execution_count": null,
   "metadata": {},
   "outputs": [],
   "source": []
  },
  {
   "cell_type": "code",
   "execution_count": null,
   "metadata": {},
   "outputs": [],
   "source": []
  },
  {
   "cell_type": "code",
   "execution_count": null,
   "metadata": {},
   "outputs": [],
   "source": []
  }
 ],
 "metadata": {
  "kernelspec": {
   "display_name": "Python 3",
   "language": "python",
   "name": "python3"
  },
  "language_info": {
   "codemirror_mode": {
    "name": "ipython",
    "version": 3
   },
   "file_extension": ".py",
   "mimetype": "text/x-python",
   "name": "python",
   "nbconvert_exporter": "python",
   "pygments_lexer": "ipython3",
   "version": "3.7.1"
  }
 },
 "nbformat": 4,
 "nbformat_minor": 2
}
